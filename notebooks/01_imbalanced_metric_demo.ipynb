{
 "cells": [
  {
   "cell_type": "markdown",
   "id": "7c3e8b9f-ccf2-45cd-8218-e19dbdb8de6a",
   "metadata": {
    "tags": []
   },
   "source": [
    "### **Imbalanced clustering metrics for benchmarking, analysis, and comparison studies** \n",
    "\n",
    "`imbalanced-clustering` is a python library that has repurposed popular clustering indices such as the Adjusted Rand Index (ARI) and Adjusted Mutual Information (AMI) to account for class imbalance. Although the original intended use of these metrics was to compare clustering results from different techniques, they have recently been applied frequently in cases where ground-truth labels exist and the result of a clustering technique is compared to  these values. An example of this is in single-cell sequencing benchmarking studies, where ground-truth celltype labels are compared to clustering results after a meaningful transformation of the latent space, such as the integration of two or more datasets. \n",
    "\n",
    "Although these metrics are meaningful in these settings, they often overemphasize the importance of larger classes in the data. In single-cell datasets, it's common that some celltypes exist in greater proportions than others in a given tissue sample, and they will thus be overrepresented in the sequencing data (e.g. alpha and beta cells from pancreatic islet samples). Because of this overrepresentation, the larger classes will have a greater influence on the results of these common clustering metrics. This may hide important information about smaller classes/celltypes, and potential erasure of their heterogeneity in a clustering setting. This problem is akin to the imbalanced learning problem in classical machine learning literature, where metrics such as accuracy and precision/recall can fail to capture the effects of a classifier on smaller/minority classes. \n",
    "\n",
    "Given this limitation, the `imbalanced-clustering` python library balances popular clustering metrics, such that the information from each of the classes from the ground-truth data, regardless of their representation in the data, will be weighted equally. \n",
    "\n",
    "The following demo notebook is divided up into two parts:\n",
    "\n",
    "**A)**: First we begin by examining how this weighing is done to account for ground-truth class imbalance by specifically considering the Adjusted Rand Index (ARI), as the other metrics undergo the exact same changes.\n",
    "\n",
    "**B)**: The feasibility of these metrics, as well as their concordance with the base imbalanced metrics is determined. To begin, sanity checks and control experiments are done to determine if the same results hold for both the base and modified balanced metrics. Then, different class/clustering scenarios are explored that emphasize the utility of the balanced metrics. "
   ]
  },
  {
   "cell_type": "markdown",
   "id": "9b5d930a-16c4-4adf-b692-d93121cc7a09",
   "metadata": {},
   "source": [
    "### Part A) Analysis of reweighting of the Adjusted Rand Index  "
   ]
  },
  {
   "cell_type": "code",
   "execution_count": null,
   "id": "74aad355-2725-4855-b1e3-5058a0ffc283",
   "metadata": {},
   "outputs": [],
   "source": [
    "import numpy as np\n",
    "import pandas as pd\n",
    "from sklearn.metrics import adjusted_rand_score, adjusted_mutual_info_score, \\\n",
    "    homogeneity_score, completeness_score, v_measure_score\n",
    "\n",
    "from imbalanced_clustering import balanced_adjusted_rand_index, \\\n",
    "    balanced_adjusted_mutual_info, balanced_completeness, \\\n",
    "    balanced_homogeneity, balanced_v_measure "
   ]
  }
 ],
 "metadata": {
  "kernelspec": {
   "display_name": "imba_clus",
   "language": "python",
   "name": "imba_clus"
  },
  "language_info": {
   "codemirror_mode": {
    "name": "ipython",
    "version": 3
   },
   "file_extension": ".py",
   "mimetype": "text/x-python",
   "name": "python",
   "nbconvert_exporter": "python",
   "pygments_lexer": "ipython3",
   "version": "3.8.5"
  }
 },
 "nbformat": 4,
 "nbformat_minor": 5
}
